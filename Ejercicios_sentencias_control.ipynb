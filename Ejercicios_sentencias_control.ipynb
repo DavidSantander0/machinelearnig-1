{
 "cells": [
  {
   "cell_type": "markdown",
   "id": "08c09e55-9852-4034-9851-dcc5e632238e",
   "metadata": {},
   "source": [
    "\\begin{flushleft}\n",
    "\\includegraphics[width=3cm]{img/Recurso-26.png}\n",
    "\\end{flushleft}\n",
    "\n",
    "\n",
    "\n",
    "\n",
    "<img src=\"img/Recurso-26.png\" width=\"200\"/>\n",
    "\n",
    "# SENTENCIAS DE CONTROL - 30-06-2025\n",
    "![logo](img/python_logo.png)"
   ]
  },
  {
   "cell_type": "markdown",
   "id": "cd1067a3-c3ec-421e-878d-0c437b0a4456",
   "metadata": {},
   "source": [
    "*Cristopher Santander*"
   ]
  },
  {
   "cell_type": "markdown",
   "id": "f82fe871-8810-498e-8e06-56dff5716577",
   "metadata": {},
   "source": [
    "# 1. EJERCICIOS"
   ]
  },
  {
   "cell_type": "markdown",
   "id": "04ab7c2e-ef88-4df2-b2d8-b66dce480c91",
   "metadata": {},
   "source": [
    "1. Escribe un programa que calcule la suma de todos los elementos de una *lista* dada. La lista sólo puede contener elementos numéricos.\n",
    "\n",
    "2. Dada una lista con elementos duplicados, escribir un programa que muestre una nueva lista con el mismo contenido que la primera pero sin elementos duplicados. Para este ejercicio, no puedes hacer uso de objetos de tipo 'Set'. \n",
    "\n",
    "3. Escribe un programa que construya un diccionario que contenga un número (entre 1 y *n*) de elementos de esta forma: (x, x*x). Ejemplo: para n = 5, el diccionario resultante sería {1: 1, 2: 4, 3: 9, 4: 16, 5: 25}\n",
    "\n",
    "4. Escribe un programa que, dada una lista de palabras, compruebe si alguna empieza por 'a' y tiene más de 9 caracteres. Si dicha palabra existe, el programa deberá terminar en el momento exacto de encontrarla. El programa también debe mostrar un mensaje apropiado por pantalla que indique el éxito o el fracaso de la búsqueda. En caso de éxito, también se mostrará por pantalla la palabra encontrada.\n",
    "\n",
    "5. Dada una lista *L* de números positivos, escribir un programa que muestre otra lista (ordenada) que contenga todo índice *i* que cumpla la siguiente condición: *L[i]* es múltiplo de 3. Por ejemplo, dada la lista *L* = [3,5,13,12,1,9] el programa mostrará la lista [0,3,5] dado que *L[0], L[3] y L[5]* son, respectivamente, 3, 12 y 9, que son los únicos múltiplos de 3 que hay en *L*.\n",
    "\n",
    "6. Dado un diccionario cuyos elementos son pares de tipo string y numérico (es decir, las claves son de tipo 'str' y los valores son de tipo 'int' o 'float'), escribe un programa que muestre por pantalla la clave cuyo valor asociado representa el valor númerico más alto de todo el diccionario. Por ejemplo, para el diccionario {'a': 4.3, 'b': 1, 'c': 7.8, 'd': -5} la respuesta sería 'c', dado que 7.8 es el valor más alto de los números 4.3, 1, 7.8 y -5.\n",
    "\n",
    "7. Dada la lista *a* = [2, 4, 6, 8] y la lista *b* = [7, 11, 15, 22], escribe un programa que itere las listas *a* y *b* y multiplique cada elemento de *a* que sea mayor que 5 por cada elemento de *b* que sea menor que 14. El programa debe mostrar los resultados por pantalla.\n",
    "\n",
    "8. Escribir un programa que pida un valor numérico X al usuario. Para ello podéis hacer uso de la función predefinida 'input'. El programa deberá mostrar por pantalla el resultado de la división 10/X. En caso de que el usuario introduzca valores no apropiados, el programa deberá gestionar correctamente las excepciones, por ejemplo, mostrando mensajes informativos por pantalla.\n",
    "\n",
    "9. Escribir un programa que cree un *diccionario* cualquiera. Posteriormente, el programa pedirá al usuario (a través de la función predefinida 'input') que introduzca una clave del diccionario. Si la clave introducida es correcta (es decir, existe en el diccionario), el programa mostrará por pantalla el valor asociado a dicha clave. En caso de que la clave no exista, el programa gestionará de manera apropiada el error, por ejemplo, mostrando un mensaje informativo al usuario.\n",
    "\n",
    "10. Escribe una *list comprehension* que construya una lista con los números *enteros* positivos de una lista de números dada. La lista original puede incluir números de tipo *float*, los cuales deben ser descartados.\n",
    "\n",
    "11. Escribe una *set comprehension* que, dada una palabra, construya un conjunto que contenga las vocales de dicha palabra.\n",
    "\n",
    "12. Escribe una *list comprehension* que construya una lista con todos los números del 0 al 50 que contengan el dígito 3. El resultado será: [3, 13, 23, 30, 31, 32, 33, 34, 35, 36, 37, 38, 39, 43].\n",
    "\n",
    "13. Escribe una *dictionary comprehension* que construya un diccionario que incluya los tamaños de cada palabra en una frase dada. Ejemplo: el resultado para la frase \"Soy un ser humano\" será {'Soy': 3, 'un': 2, 'ser': 3, 'humano': 6}\n",
    "\n",
    "14. Escribe una *list comprehension* que construya una lista que incluya todos los números del 1 al 10 en orden. La primera mitad se mostrarán en formato numérico; la segunda mitad en texto. Es decir, el resultado será: [1, 2, 3, 4, 5, 'seis', 'siete', 'ocho', 'nueve', 'diez']."
   ]
  },
  {
   "cell_type": "code",
   "execution_count": 6,
   "id": "40844900-0100-48b9-bad1-e9361bcb3381",
   "metadata": {},
   "outputs": [
    {
     "name": "stdout",
     "output_type": "stream",
     "text": [
      "La suma es: 51\n"
     ]
    }
   ],
   "source": [
    "#Ejercicio 1\n",
    "# creo la lista \n",
    "lista = [3,5,7,10,5,6,7,8] \n",
    "# Variable acumuladora para guardar la suma\n",
    "sumacont = 0\n",
    " # creamos el for el cual va a recorrer la lista y lo va a guardar en sumacont\n",
    "for numero in lista:  \n",
    "    sumacont += numero     # Sumamos cada número a la variable 'sumacont'\n",
    "\n",
    "print(\"La suma es:\", sumacont)  "
   ]
  },
  {
   "cell_type": "code",
   "execution_count": 7,
   "id": "cbe4115c-a0f1-475b-93ee-702d8adb2487",
   "metadata": {},
   "outputs": [
    {
     "name": "stdout",
     "output_type": "stream",
     "text": [
      "[1, 2, 3, 5, 6, 8, 9]\n"
     ]
    }
   ],
   "source": [
    "#Ejercicio 2\n",
    "lista = [1,1,1,2,3,5,6,6,8,9]\n",
    "#Lista en la que voy a guardar los elementos\n",
    "lista_sin_duplicados = []\n",
    "# creamos el for, y se guardaran temporalmente los elementos\n",
    "# en num y si no esta el elemento en lista_sin_duplicados con el \n",
    "# .append agrego el elemento al final de la lista\n",
    "for num in lista:\n",
    "    if num not in lista_sin_duplicados:\n",
    "        lista_sin_duplicados.append(num)\n",
    "print(lista_sin_duplicados)"
   ]
  },
  {
   "cell_type": "code",
   "execution_count": 11,
   "id": "ff4a1d21-cd18-4b53-a215-833e156709d6",
   "metadata": {},
   "outputs": [
    {
     "name": "stdout",
     "output_type": "stream",
     "text": [
      "{1: 1, 2: 4, 3: 9, 4: 16, 5: 25, 6: 36, 7: 49, 8: 64}\n"
     ]
    }
   ],
   "source": [
    "#Ejercicio 3 \n",
    "#Escribe un programa que construya un diccionario que contenga un número (entre 1 y *n*) \n",
    "#de elementos de esta forma: (x, x*x). \n",
    "#Ejemplo: para n = 5, el diccionario resultante sería {1: 1, 2: 4, 3: 9, 4: 16, 5: 25}\n",
    "\n",
    "# n la cantidad de elementos\n",
    "n = 8\n",
    "#diccionario vacio en el que se guardara n y su potencia\n",
    "potencia={}\n",
    "\n",
    "# creamos la interacion en X - empezando por 1 y N+1 porque el range no coge el ultimo elemento\n",
    "for x in range(1,n+1):\n",
    "    #creamos la sentencia que potencia en el indice x valdra x*x en cada paso\n",
    "    potencia[x]=x*x\n",
    "print(potencia)\n",
    "\n"
   ]
  },
  {
   "cell_type": "code",
   "execution_count": 36,
   "id": "ec8c509d-4748-4e05-8e1d-284e9de19b00",
   "metadata": {},
   "outputs": [
    {
     "name": "stdout",
     "output_type": "stream",
     "text": [
      "Palabra no encontrada\n",
      "Palabra no encontrada\n",
      "Palabra no encontrada\n",
      "Palabra no encontrada\n",
      "Palabra encontrada: aventuradamente\n"
     ]
    }
   ],
   "source": [
    "#Ejercicio 4\n",
    "#Escribe un programa que, dada una lista de palabras, compruebe si alguna empieza por 'a' \n",
    "#y tiene más de 9 caracteres. Si dicha palabra existe, \n",
    "#el programa deberá terminar en el momento exacto de encontrarla. \n",
    "#El programa también debe mostrar un mensaje apropiado por pantalla que indique el éxito o el fracaso de la búsqueda. \n",
    "#En caso de éxito, también se mostrará por pantalla la palabra encontrada.\n",
    "\n",
    "lista=[\"legue of legends\", \"valorant\", \"clash royale\", \"counter strike\", \"aventuradamente\"]\n",
    "#esto es como una bandera que inicializo en False porque todavia no encuentra nada\n",
    "comprobador = False\n",
    "for palabra in lista:\n",
    "    if palabra.startswith(\"a\") and len(palabra)>9:\n",
    "        print(\"Palabra encontrada:\",palabra)\n",
    "        comprobador = True\n",
    "        break\n",
    "    if not comprobador:\n",
    "        print(\"Palabra no encontrada\")\n",
    "        \n",
    "\n",
    "\n"
   ]
  },
  {
   "cell_type": "code",
   "execution_count": 45,
   "id": "1361e86a-1684-4689-82de-c9fa66d85360",
   "metadata": {},
   "outputs": [
    {
     "name": "stdout",
     "output_type": "stream",
     "text": [
      "[0, 3, 4]\n"
     ]
    }
   ],
   "source": [
    "#Ejercicio 5 \n",
    "#Dada una lista *L* de números positivos, escribir un programa que muestre otra lista (ordenada) \n",
    "#que contenga todo índice *i* que cumpla la siguiente condición: *L[i]* es múltiplo de 3. \n",
    "#Por ejemplo, dada la lista *L* = [3,5,13,12,1,9] el programa mostrará la lista [0,3,5] dado que *L[0], L[3] y L[5]* son, \n",
    "#respectivamente, 3, 12 y 9, \n",
    "#que son los únicos múltiplos de 3 que hay en *L*.\n",
    "\n",
    "L=[3,5,7,12,9,32,0]\n",
    "#creo otra lista en la que guardare los indices que cumplan la sentencia \n",
    "indices=[]\n",
    "\n",
    "for i in range(len(L)):\n",
    "    if L[i]!=0 and L[i] %3==0: #creamos la sentencia que dice que exluya 0 y que el resultado de i%3 sea igual a 0 que eso significaria que es multiplo de 3\n",
    "                                #entonces agregamos a la lista vacia el \n",
    "        indices.append(i)\n",
    "print(indices)\n",
    "\n"
   ]
  },
  {
   "cell_type": "code",
   "execution_count": 4,
   "id": "beb67f11-8c6e-47b8-9132-c4c0530f67ac",
   "metadata": {},
   "outputs": [
    {
     "name": "stdout",
     "output_type": "stream",
     "text": [
      "El numero mayor es b\n"
     ]
    }
   ],
   "source": [
    "#Ejercicio 6 \n",
    "#Creo el diccionario con las claves y sus valores asignados de tipo int y tipo float\n",
    "diccionario={'a':5,'b':89,'c':3.5,'d':-10}\n",
    "#creo una variable que guardara el numero mayor, y le digo con la funcion max que encuentra el valor mas alto que recorra diccionario, pero que compare el contenido de cada clave con '.get', para que no compare directamente las claves \n",
    "nummayor=max(diccionario,key=diccionario.get) # estructura del 'max' max(iterable, key=funcion)\n",
    "print(\"El numero mayor es\", nummayor)\n",
    "    "
   ]
  },
  {
   "cell_type": "code",
   "execution_count": 8,
   "id": "f52ef60f-defe-47af-9841-716b7dae47b6",
   "metadata": {},
   "outputs": [
    {
     "name": "stdout",
     "output_type": "stream",
     "text": [
      "6x12 = 72\n",
      "6x6 = 36\n",
      "6x8 = 48\n"
     ]
    }
   ],
   "source": [
    "#Ejercicio 7\n",
    "#\n",
    "lista1=[2,4,5,6]\n",
    "lista2=[15,12,6,8]\n",
    "\n",
    "#Creo el primer for para recorrer la lista 1 y encontrar el numero mayor a 5\n",
    "for a in lista1:\n",
    "    if a > 5:\n",
    "        #si se cumple la primera sentencia se activa el segundo for para la lista2 la cual busca numeros menores de 14 si se cumple imprime el valor de a*b\n",
    "        for b in lista2:\n",
    "            if b < 14:\n",
    "                print(f\"{a}x{b} = {a*b}\")\n"
   ]
  }
 ],
 "metadata": {
  "kernelspec": {
   "display_name": "Python 3 (ipykernel)",
   "language": "python",
   "name": "python3"
  },
  "language_info": {
   "codemirror_mode": {
    "name": "ipython",
    "version": 3
   },
   "file_extension": ".py",
   "mimetype": "text/x-python",
   "name": "python",
   "nbconvert_exporter": "python",
   "pygments_lexer": "ipython3",
   "version": "3.11.13"
  }
 },
 "nbformat": 4,
 "nbformat_minor": 5
}
