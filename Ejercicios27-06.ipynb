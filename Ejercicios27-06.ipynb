{
 "cells": [
  {
   "cell_type": "markdown",
   "id": "8c63651b-6e1c-43b0-943d-5a69451d6a97",
   "metadata": {},
   "source": [
    "\\begin{flushleft}\n",
    "\\includegraphics[width=3cm]{img/Recurso-26.png}\n",
    "\\end{flushleft}\n",
    "\n",
    "\n",
    "\n",
    "\n",
    "<img src=\"img/Recurso-26.png\" width=\"200\"/>\n",
    "\n",
    "# 01PAO25-25 - Python, Data Types\n",
    "![logo](img/python_logo.png)\n",
    "\n"
   ]
  },
  {
   "cell_type": "markdown",
   "id": "45739baa-6cde-4d6f-94ef-8525ea504b1e",
   "metadata": {},
   "source": [
    "*Cristopher Santander*"
   ]
  },
  {
   "cell_type": "markdown",
   "id": "cbf36e44-eeac-4e98-a815-86aecdf22062",
   "metadata": {},
   "source": [
    "## EJERCICIOS EN CLASE 27/06/2025"
   ]
  },
  {
   "cell_type": "markdown",
   "id": "04cd2bfb-2859-42d4-b8cb-4208fca4510c",
   "metadata": {},
   "source": [
    "1. Escribe un programa que muestre por pantalla la concatenación de un número y una cadena de caracteres. Para obtener esta concatenación puedes usar uno de los operadores explicados en este tema. Ejemplo: dado el número 3 y la cadena 'abc', el programa mostrará la cadena '3abc'.\n",
    "\n",
    "2. Escribe un programa que muestre por pantalla un valor booleano que indique si un número entero *N* está contenido en un intervalo semiabierto *[a,b)*, el cual establece una cota inferior *a* (inclusive) y una cota superior *b* (exclusive) para *N*.\n",
    "\n",
    "3. Escribe un programa que, dado dos strings *S1* y *S2* y dos números enteros *N1* y *N2*, determine si el substring que en *S1* se extiende desde la posición *N1* a la *N2* (ambos inclusive) está contenido en *S2*.\n",
    "\n",
    "4. Dada una *lista* con elementos duplicados, escribir un programa que muestre una nueva *lista* con el mismo contenido que la primera pero sin elementos duplicados.\n",
    "\n",
    "5. Escribe un programa que, dada una *lista* de strings *L*, un string *s* perteneciente a *L* y un string *t*, reemplace *s* por *t* en *L*. El programa debe mostrar la lista resultante por pantalla.\n",
    "\n",
    "6. Escribe un programa que defina una *tupla* con elementos numéricos, reemplace el valor del último por un valor diferente y muestre la *tupla* por pantalla. Recuerda que las *tuplas* son inmutables. Tendrás que usar objetos intermedios.\n",
    "\n",
    "7. Dada la lista [1,2,3,4,5,6,7,8] escribe un programa que, a partir de esta lista, obtenga la lista [8,6,4,2] y la muestre por pantalla.\n",
    "\n",
    "8. Escribe un programa que, dada una tupla y un índice válido *i*, elimine el elemento de la tupla que se encuentra en la posición *i*. Para este ejercicio sólo puedes usar objetos de tipo tupla. No puedes convetir la *tupla* a una *lista*, por ejemplo.\n",
    "\n",
    "9. Escribe un programa que obtenga la mediana de una *lista* de números. Recuerda que la mediana *M* de una lista de números *L* es el número que cumple la siguiente propiedad: la mitad de los números de *L* son superiores a *M* y la otra mitad son inferiores. Cuando el número de elementos de *L* es par, se puede considerar que hay dos medianas. No obstante, en este ejercicio consideraremos que únicamente existe una mediana."
   ]
  },
  {
   "cell_type": "code",
   "execution_count": 4,
   "id": "50e7c12d-a6d0-41fd-accf-625bf9965e49",
   "metadata": {},
   "outputs": [
    {
     "name": "stdout",
     "output_type": "stream",
     "text": [
      "3abc\n"
     ]
    }
   ],
   "source": [
    "#ejercicio 1\n",
    "a = 3\n",
    "b = 'abc'\n",
    "resultado = str(a)+b\n",
    "print(resultado)"
   ]
  },
  {
   "cell_type": "code",
   "execution_count": 6,
   "id": "a7f72df7-bb27-499c-b063-0fe3d8272487",
   "metadata": {},
   "outputs": [
    {
     "name": "stdout",
     "output_type": "stream",
     "text": [
      "False\n"
     ]
    }
   ],
   "source": [
    "#Ejercicio 2\n",
    "a = 1\n",
    "b = 10\n",
    "n = 11\n",
    "resultado = a <= n < b\n",
    "print(resultado)\n"
   ]
  },
  {
   "cell_type": "code",
   "execution_count": 14,
   "id": "96588347-36cc-41dc-b08b-4489b6cbd9f6",
   "metadata": {},
   "outputs": [
    {
     "name": "stdout",
     "output_type": "stream",
     "text": [
      "False\n"
     ]
    }
   ],
   "source": [
    "#Ejercicio 3\n",
    "s1 = \"klkl\"\n",
    "s2 = \"qlqj\"\n",
    "n1 = 1\n",
    "n2 = 2\n",
    "subcadena = s1[n1:n2+1]\n",
    "print(subcadena in s2)"
   ]
  },
  {
   "cell_type": "code",
   "execution_count": 15,
   "id": "89a5b45e-f0c2-4f7f-bfe7-42483d7578e8",
   "metadata": {},
   "outputs": [
    {
     "name": "stdout",
     "output_type": "stream",
     "text": [
      "[1, 2, 3, 4, 5]\n"
     ]
    }
   ],
   "source": [
    "#Ejercicio 4\n",
    "lista = [1, 2, 2, 3, 4, 4, 5]\n",
    "lista_sin_duplicados = list(set(lista))\n",
    "print(lista_sin_duplicados)  "
   ]
  },
  {
   "cell_type": "code",
   "execution_count": 16,
   "id": "cad2039c-3913-4ba0-bb74-ec1072175a47",
   "metadata": {},
   "outputs": [
    {
     "name": "stdout",
     "output_type": "stream",
     "text": [
      "['banana', 'pera', 'banana', 'uva']\n"
     ]
    }
   ],
   "source": [
    "#Ejercicio 5\n",
    "L = ['manzana', 'pera', 'manzana', 'uva']\n",
    "s = 'manzana'\n",
    "t = 'banana'\n",
    "L_resultado = [t if x == s else x for x in L]\n",
    "print(L_resultado) "
   ]
  },
  {
   "cell_type": "code",
   "execution_count": 2,
   "id": "363d402d-7fe4-4818-bd19-f6bca3825eed",
   "metadata": {},
   "outputs": [
    {
     "name": "stdout",
     "output_type": "stream",
     "text": [
      "(1, 2, 3, 99)\n"
     ]
    }
   ],
   "source": [
    "#Ejercicio 6\n",
    "tupla = (1, 2, 3, 4)\n",
    "nueva_tupla = tupla[:-1] + (99,)\n",
    "print(nueva_tupla)  "
   ]
  },
  {
   "cell_type": "code",
   "execution_count": 18,
   "id": "67003ae0-5e30-4949-b729-080032572a4a",
   "metadata": {},
   "outputs": [
    {
     "name": "stdout",
     "output_type": "stream",
     "text": [
      "[8, 6, 4, 2]\n"
     ]
    }
   ],
   "source": [
    "#Ejercicio 7\n",
    "lista = [1, 2, 3, 4, 5, 6, 7, 8]\n",
    "nueva_lista = lista[::-1][::2]\n",
    "print(nueva_lista) "
   ]
  },
  {
   "cell_type": "code",
   "execution_count": 21,
   "id": "ae83de48-4f2d-4975-83d3-d712e1ab5156",
   "metadata": {},
   "outputs": [
    {
     "name": "stdout",
     "output_type": "stream",
     "text": [
      "(10, 20, 40, 50)\n"
     ]
    }
   ],
   "source": [
    "#Ejercicio 8\n",
    "def eliminar_elemento(tupla, i):\n",
    "    return tupla[:i] + tupla[i+1:]\n",
    "\n",
    "tupla = (10, 20, 30, 40, 50)\n",
    "i = 2\n",
    "nueva_tupla = eliminar_elemento(tupla, i)\n",
    "print(nueva_tupla)  "
   ]
  },
  {
   "cell_type": "code",
   "execution_count": 22,
   "id": "144823b6-d8d4-4326-b3a8-7ce5a5e30d14",
   "metadata": {},
   "outputs": [
    {
     "name": "stdout",
     "output_type": "stream",
     "text": [
      "5\n"
     ]
    }
   ],
   "source": [
    "#Ejercicio 9 \n",
    "def obtener_mediana(lista):\n",
    "    lista_ordenada = sorted(lista)\n",
    "    n = len(lista_ordenada)\n",
    "    medio = n // 2\n",
    "    if n % 2 == 1:\n",
    "        return lista_ordenada[medio]\n",
    "    else:\n",
    "        return (lista_ordenada[medio - 1] + lista_ordenada[medio]) / 2\n",
    "\n",
    "numeros = [7, 1, 3, 5, 9]\n",
    "mediana = obtener_mediana(numeros)\n",
    "print(mediana) "
   ]
  }
 ],
 "metadata": {
  "kernelspec": {
   "display_name": "Python 3 (ipykernel)",
   "language": "python",
   "name": "python3"
  },
  "language_info": {
   "codemirror_mode": {
    "name": "ipython",
    "version": 3
   },
   "file_extension": ".py",
   "mimetype": "text/x-python",
   "name": "python",
   "nbconvert_exporter": "python",
   "pygments_lexer": "ipython3",
   "version": "3.11.13"
  }
 },
 "nbformat": 4,
 "nbformat_minor": 5
}
