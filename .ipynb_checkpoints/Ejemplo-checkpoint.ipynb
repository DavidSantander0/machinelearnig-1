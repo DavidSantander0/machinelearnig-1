{
 "cells": [
  {
   "cell_type": "markdown",
   "id": "d06a3548-36fd-4b09-a350-73fa264f5b4a",
   "metadata": {},
   "source": [
    "![Logo ITQ 1](./imagenes/itqlogo1.png)\n",
    "# Introduccion\n",
    "Este es un documentode Python que me permite entender las bases de este lenguaje de programacion.<br>\n",
    "<img src=\"https://th.bing.com/th/id/OIP.cqU6iUtI9_QoUI1bXnjpzwHaDN?r=0&rs=1&pid=ImgDetMain&cb=idpwebp2&o=7&rm=3\">\n",
    "<br>\n",
    "https://github.com/DavidSantander0/machinelearnig-1\n",
    "<br>\n",
    "* Phyton lenguaje de programacion\n",
    "* java lenguaje de programacion\n",
    "  * Php lenguaje de programacion\n",
    "\n",
    "  "
   ]
  },
  {
   "cell_type": "code",
   "execution_count": 5,
   "id": "99689efb-86c9-4ab5-9071-5a41f8fe5d98",
   "metadata": {},
   "outputs": [
    {
     "name": "stdout",
     "output_type": "stream",
     "text": [
      "EL resultado de a es 5\n"
     ]
    }
   ],
   "source": [
    "# Esto es un comentario \n",
    "a=5 \n",
    "print (\"EL resultado de a es\", a)"
   ]
  },
  {
   "cell_type": "code",
   "execution_count": null,
   "id": "09463fab-3d12-4d97-9f46-c0e83d470aeb",
   "metadata": {},
   "outputs": [],
   "source": []
  },
  {
   "cell_type": "code",
   "execution_count": null,
   "id": "d8ca747f-f042-40d8-809e-061e7539b4e0",
   "metadata": {},
   "outputs": [],
   "source": []
  }
 ],
 "metadata": {
  "kernelspec": {
   "display_name": "Python [conda env:base] *",
   "language": "python",
   "name": "conda-base-py"
  },
  "language_info": {
   "codemirror_mode": {
    "name": "ipython",
    "version": 3
   },
   "file_extension": ".py",
   "mimetype": "text/x-python",
   "name": "python",
   "nbconvert_exporter": "python",
   "pygments_lexer": "ipython3",
   "version": "3.13.5"
  }
 },
 "nbformat": 4,
 "nbformat_minor": 5
}
