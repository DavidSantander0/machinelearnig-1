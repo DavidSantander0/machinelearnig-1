{
 "cells": [
  {
   "cell_type": "markdown",
   "id": "d06a3548-36fd-4b09-a350-73fa264f5b4a",
   "metadata": {},
   "source": [
    "# Introduccion\n",
    "Este es un documentode Python que me permite entender las bases de este lenguaje de programacion.<br>\n",
    "<img src=\"https://th.bing.com/th/id/OIP.cqU6iUtI9_QoUI1bXnjpzwHaDN?r=0&rs=1&pid=ImgDetMain&cb=idpwebp2&o=7&rm=3\">\n",
    "<br>\n",
    "https://github.com/DavidSantander0/machinelearnig-1\n",
    "* Phyton lenguaje de programacion\n",
    "* java lenguaje de programacion\n",
    "  * Php lenguaje de programacion\n",
    "  "
   ]
  },
  {
   "cell_type": "code",
   "execution_count": null,
   "id": "99689efb-86c9-4ab5-9071-5a41f8fe5d98",
   "metadata": {},
   "outputs": [],
   "source": []
  }
 ],
 "metadata": {
  "kernelspec": {
   "display_name": "Python 3 (ipykernel)",
   "language": "python",
   "name": "python3"
  },
  "language_info": {
   "codemirror_mode": {
    "name": "ipython",
    "version": 3
   },
   "file_extension": ".py",
   "mimetype": "text/x-python",
   "name": "python",
   "nbconvert_exporter": "python",
   "pygments_lexer": "ipython3",
   "version": "3.11.13"
  }
 },
 "nbformat": 4,
 "nbformat_minor": 5
}
