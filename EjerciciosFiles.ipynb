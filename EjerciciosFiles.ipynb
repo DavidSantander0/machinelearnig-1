{
 "cells": [
  {
   "cell_type": "markdown",
   "id": "a9b9d9f3-f48b-4a3b-b4a4-280a64e1b96a",
   "metadata": {},
   "source": [
    "\\begin{flushleft}\n",
    "\\includegraphics[width=3cm]{img/Recurso-26.png}\n",
    "\\end{flushleft}\n",
    "\n",
    "\n",
    "\n",
    "\n",
    "<img src=\"img/Recurso-26.png\" width=\"200\"/>\n",
    "\n",
    "# FILES EN PHYTON - 06-07-2025\n",
    "![logo](img/python_logo.png)"
   ]
  },
  {
   "cell_type": "markdown",
   "id": "c0572162-1e22-43be-9a45-9b0e35d7f102",
   "metadata": {},
   "source": [
    "*Cristopher David Santander* <br>\n",
    "https://github.com/DavidSantander0/machinelearnig-1.git"
   ]
  },
  {
   "cell_type": "markdown",
   "id": "9fb63b34-d1f9-4eec-836b-9b23f3a43424",
   "metadata": {},
   "source": [
    "## Ejercicios"
   ]
  },
  {
   "cell_type": "markdown",
   "id": "0f7d4700-8852-4a88-91cb-7c2f4d7b7eb9",
   "metadata": {},
   "source": [
    "1. Escribe una función que reciba una ruta de un fichero de texto y una cadena de caracteres a buscar y determine si la cadena aparece en el fichero.\n",
    "\n",
    "2. Escribe una función que reciba una lista, una ruta destino y un número *n*. La función debe crear un fichero en la ruta especificada. El contenido del fichero serán los primeros *n* elementos de la lista. La función debe controlar de manera apropiada los posibles valores de *n* que estén fuera de rango.\n",
    "\n",
    "3. Escribe una función que reciba una ruta de un fichero de texto devuelva un diccionario con la frecuencia de aparición de cada palabra. Ejemplo: un fichero que contenga la frase 'es mejor que venga que que no venga' devolverá el siguiente diccionario: {'es' : 1, 'mejor' : 1, 'que' : 3, 'venga' : 2, 'no' : 1}. Para dividir un string en palabras puedes hacer uso del método *split*."
   ]
  },
  {
   "cell_type": "code",
   "execution_count": null,
   "id": "715031fc-76af-4815-9710-f2e9bb513704",
   "metadata": {},
   "outputs": [],
   "source": [
    "#Ejercicio 1 \n",
    "def buscar_ruta(ruta, cadena):\n",
    "    archivo= open(ruta,'r')\n",
    "    contenido=archivo.read()\n",
    "    archivo.close()\n",
    "    return cadena in contenido\n",
    " \n",
    "ruta=\"res/one_line.txt\"\n",
    "print(buscar_ruta(ruta, \"hola\"))\n",
    "    "
   ]
  },
  {
   "cell_type": "code",
   "execution_count": null,
   "id": "b70c3d0e-4d38-497d-94c9-80480cee24a9",
   "metadata": {},
   "outputs": [],
   "source": [
    "#Ejercicio 2 \n",
    "#improtante, la funcion sobre escribe el contenido, no es como que lo agrega el contenido al final\n",
    "def guardar_numeros(lista,ruta,n):\n",
    "    if n <=0:\n",
    "        print(\"El numero no puede ser menor a 0\")\n",
    "        return\n",
    "\n",
    "    if n>len(lista):\n",
    "        n=len(lista) # con esto evito que n este fuera de rango\n",
    "    archivo= open(ruta, 'w')\n",
    "    for i in range(n):\n",
    "        archivo.write(str(lista[i])+'\\n') #aqui estoy escribiendo la lista guardada en i y la convierto a str y tmb agrego un salto de linea\n",
    "    archivo.close() \n",
    "\n",
    "consolas=[\"ps5\", \"xbox\", 4,\"pc\"]\n",
    "ruta=\"res/one_line.txt\"\n",
    "guardar_numeros(consolas,ruta,1)"
   ]
  },
  {
   "cell_type": "code",
   "execution_count": null,
   "id": "a394e31d-aa8e-4536-91d8-19b693de1595",
   "metadata": {},
   "outputs": [],
   "source": [
    "#Ejercicio 3\n",
    "def leer_contar(ruta):\n",
    "    dicc={} #inicializao un diccionario vacio\n",
    "    archivo= open(ruta, 'r') #creo la variable para la ruta\n",
    "    texto=archivo.read() #la variable para leer el archivo \n",
    "    archivo.close() #lo cierro \n",
    "\n",
    "    palabras=texto.split() #separo lo que leyo con .split \n",
    "    for separao in palabras: #en separao voy a guardar lo que recorro en palabras\n",
    "        if separao in dicc: #si la paralabra ya existe en mi diccionario\n",
    "            dicc[separao]+=1 # se le aunmentara el contador \n",
    "        else:\n",
    "            dicc[separao]=1 # y si no existe seguira en 1 \n",
    "    return dicc\n",
    "\n",
    "ruta=(\"res/oraciones.txt\")\n",
    "resultado=leer_contar(ruta)\n",
    "print(resultado)"
   ]
  }
 ],
 "metadata": {
  "kernelspec": {
   "display_name": "Python 3 (ipykernel)",
   "language": "python",
   "name": "python3"
  },
  "language_info": {
   "codemirror_mode": {
    "name": "ipython",
    "version": 3
   },
   "file_extension": ".py",
   "mimetype": "text/x-python",
   "name": "python",
   "nbconvert_exporter": "python",
   "pygments_lexer": "ipython3",
   "version": "3.11.13"
  }
 },
 "nbformat": 4,
 "nbformat_minor": 5
}
