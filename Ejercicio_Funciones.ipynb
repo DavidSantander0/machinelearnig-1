{
 "cells": [
  {
   "cell_type": "markdown",
   "id": "4fb3a695-2cd5-44ac-b2df-63f41fe09100",
   "metadata": {},
   "source": [
    "\\begin{flushleft}\n",
    "\\includegraphics[width=3cm]{img/Recurso-26.png}\n",
    "\\end{flushleft}\n",
    "\n",
    "\n",
    "\n",
    "\n",
    "<img src=\"img/Recurso-26.png\" width=\"200\"/>\n",
    "\n",
    "# SENTENCIAS DE CONTROL - 30-06-2025\n",
    "![logo](img/python_logo.png)"
   ]
  },
  {
   "cell_type": "markdown",
   "id": "d5df55e7-f01c-437f-bea0-b8c4639ac4c9",
   "metadata": {},
   "source": [
    "# Ejercicios Funciones 03-07-2025\n"
   ]
  },
  {
   "cell_type": "markdown",
   "id": "2816a7a9-31f9-4355-ba30-d51d252f758b",
   "metadata": {},
   "source": [
    "1. Escribe una función que reciba como entrada una *lista* con números y devuelva como resultado una *lista* con los cuadrados de los números contenidos en la lista de entrada.\n",
    "\n",
    "2. Escribe una función que reciba números como entrada y devuelva la suma de los mismos. La función debe ser capaz de recibir una cantidad indeterminada de números. La función no debe recibir directamente ningún objeto complejo (lista, conjunto, etc.).\n",
    "\n",
    "3. Escribe una función que reciba un string como entrada y devuelva el string al revés. Ejemplo: si el string de entrada es 'hola', el resultado será 'aloh'.\n",
    "\n",
    "4. Escribe una función *lambda* que, al igual que la función desarrollada en el ejercicio anterior, invierta el string recibido como parámetro. Ejemplo: si el string de entrada es 'hola', el resultado será 'aloh'.\n",
    "\n",
    "5. Escribe una función que compruebe si un número se encuentra dentro de un rango específico.\n",
    "\n",
    "6. Escribe una función que reciba un número entero positivo como parámetro y devuelva una lista que contenga los 5 primeros múltiplos de dicho número. Por ejemplo, si la función recibe el número 3, devolverá la lista [3, 6, 9, 12, 15]. Si la función recibe un parámetro incorrecto (por ejemplo, un múmero menor o igual a cero), mostrará un mensaje de error por pantalla y devolverá una lista vacía.\n",
    "\n",
    "7. Escribe una función que reciba una lista como parámetro y compruebe si la lista tiene duplicados. La función devolverá *True* si la lista tiene duplicados y *False* si no los tiene.\n",
    "\n",
    "8. Escribe una función *lambda* que, al igual que la función desarrollada en el ejercicio anterior, reciba una lista como parámetro y compruebe si la lista tiene duplicados. La función devolverá *True* si la lista tiene duplicados y *False* si no los tiene.\n",
    "\n",
    "9. Escribe una función que compruebe si un string dado es un palíndromo. Un palíndromo es una secuencia de caracteres que se lee igual de izquierda a derecha que de derecha a izquierda. Por ejemplo, la función devolverá *True* si recibe el string \"reconocer\" y *False* si recibe el string \"python\"."
   ]
  },
  {
   "cell_type": "code",
   "execution_count": 3,
   "id": "6d3a6808-5ebb-4b50-a4cc-f8c90e292296",
   "metadata": {},
   "outputs": [
    {
     "data": {
      "text/plain": [
       "[4, 9, 16, 25, 36]"
      ]
     },
     "execution_count": 3,
     "metadata": {},
     "output_type": "execute_result"
    }
   ],
   "source": [
    "#Ejercicio 1 \n",
    "def potencia(lista):\n",
    "    return[x**2 for x in lista] #creo un for para que recorra la lista y luego los potencie\n",
    "\n",
    "potencia([2,3,4,5,6])\n"
   ]
  },
  {
   "cell_type": "code",
   "execution_count": 15,
   "id": "012b4d5f-e1eb-4d6b-98de-37a3f92b5373",
   "metadata": {},
   "outputs": [
    {
     "data": {
      "text/plain": [
       "26"
      ]
     },
     "execution_count": 15,
     "metadata": {},
     "output_type": "execute_result"
    }
   ],
   "source": [
    "#Ejercicio 2\n",
    "def sumarinf(*numeros):\n",
    "    total = 0 #creo un contador\n",
    "    for n in numeros: #recorro todos los datos dados \n",
    "        total += n #y los voy sumando y guardando en el contador\n",
    "    return total\n",
    "    \n",
    "# def sumarinf(*args):\n",
    "#     return sum(args) ##alternativa con \"args\"\n",
    "\n",
    "sumarinf(5,6,7,8)"
   ]
  },
  {
   "cell_type": "code",
   "execution_count": 20,
   "id": "ff39ee75-f96c-43a0-80b1-e02b4e928fdd",
   "metadata": {},
   "outputs": [
    {
     "data": {
      "text/plain": [
       "'sever lA'"
      ]
     },
     "execution_count": 20,
     "metadata": {},
     "output_type": "execute_result"
    }
   ],
   "source": [
    "#Ejercicio 3   \n",
    "def reves(palabra):\n",
    "    return palabra[::-1] #con slicing empiezo desde el ultimo al inicio\n",
    "\n",
    "reves(\"Al reves\")\n",
    "    \n",
    "    "
   ]
  },
  {
   "cell_type": "code",
   "execution_count": 21,
   "id": "eff584b4-2a8e-4400-adc9-1e3f74f50d48",
   "metadata": {},
   "outputs": [],
   "source": [
    "#Ejercicio 4\n",
    "reves_lambda = lambda texto: texto[::-1] #lo que comprendi es que en vez de usar def podemos unas lambda y hacerlo en una linea siguiendo la estructura dada\n"
   ]
  },
  {
   "cell_type": "code",
   "execution_count": 24,
   "id": "8d981415-0602-41f5-95bd-d11f4f01dc43",
   "metadata": {},
   "outputs": [
    {
     "data": {
      "text/plain": [
       "True"
      ]
     },
     "execution_count": 24,
     "metadata": {},
     "output_type": "execute_result"
    }
   ],
   "source": [
    "#Ejercicio 5\n",
    "def encontrar(numero,minimo,maximo):\n",
    "    if minimo<=numero<=maximo:\n",
    "        return True\n",
    "    else:\n",
    "        return False\n",
    "\n",
    "encontrar(7,1,10)"
   ]
  },
  {
   "cell_type": "code",
   "execution_count": 38,
   "id": "2e6c9e13-1425-4974-bee8-395ddf975bad",
   "metadata": {},
   "outputs": [
    {
     "data": {
      "text/plain": [
       "[5, 10, 15, 20, 25]"
      ]
     },
     "execution_count": 38,
     "metadata": {},
     "output_type": "execute_result"
    }
   ],
   "source": [
    "#Ejercicio 6\n",
    "def multiplo_numero(numero):\n",
    "    if numero<0:  #creo la sentencia que reconozca si no puso un valor entero \n",
    "        return(print(\"No pusiste un valor admitido\"))\n",
    "    multiplo=[] #creo una lista vacia en la cual voy a guardar los multiplo\n",
    "    for i in range(1,6): #creo un for para que creo un rango del 1 al 5\n",
    "        multiplo.append(numero*i) #a;ado a la lista el resultado \n",
    "    return multiplo \n",
    "multiplo_numero(5)"
   ]
  },
  {
   "cell_type": "code",
   "execution_count": 39,
   "id": "292ba115-fa8b-4814-b719-ed82f697e492",
   "metadata": {},
   "outputs": [
    {
     "data": {
      "text/plain": [
       "True"
      ]
     },
     "execution_count": 39,
     "metadata": {},
     "output_type": "execute_result"
    }
   ],
   "source": [
    "#Ejercicio 7 \n",
    "def duplicados(lista):\n",
    "    return len(lista) != len(set(lista)) #cuento los elementos de la lista y comparo si tiene duplicados gracias al set puedo comparar la lista original con la misma lista sin duplicados\n",
    "\n",
    "duplicados([2,2,2,3,4,5,6,7,7,])\n"
   ]
  },
  {
   "cell_type": "code",
   "execution_count": 57,
   "id": "ce0db364-e92e-417a-a5a9-aef8135b851d",
   "metadata": {},
   "outputs": [
    {
     "data": {
      "text/plain": [
       "False"
      ]
     },
     "execution_count": 57,
     "metadata": {},
     "output_type": "execute_result"
    }
   ],
   "source": [
    "#Ejercicio 8\n",
    "duplicado_corto = lambda lista: len(lista) != len(set(lista)) #literalmente lo mismo de arriba pero en una linea\n",
    "\n",
    "duplicado_corto([1,2,3,4,5,6])"
   ]
  },
  {
   "cell_type": "code",
   "execution_count": 62,
   "id": "a809bce8-c464-499f-9c38-b975fc87225b",
   "metadata": {},
   "outputs": [
    {
     "data": {
      "text/plain": [
       "True"
      ]
     },
     "execution_count": 62,
     "metadata": {},
     "output_type": "execute_result"
    }
   ],
   "source": [
    "#EJercicio 9 \n",
    "\n",
    "def palindromo(palabra):\n",
    "    palabra=palabra.lower() #convierto la palabra a minuscula\n",
    "    return palabra==palabra[::-1] #creo la sentencia que pregunta si es lo mismo la palabra normal o desde la ultima a la primera\n",
    "palindromo(\"queloque\")\n",
    "palindromo(\"reconocer\")"
   ]
  }
 ],
 "metadata": {
  "kernelspec": {
   "display_name": "Python 3 (ipykernel)",
   "language": "python",
   "name": "python3"
  },
  "language_info": {
   "codemirror_mode": {
    "name": "ipython",
    "version": 3
   },
   "file_extension": ".py",
   "mimetype": "text/x-python",
   "name": "python",
   "nbconvert_exporter": "python",
   "pygments_lexer": "ipython3",
   "version": "3.11.13"
  }
 },
 "nbformat": 4,
 "nbformat_minor": 5
}
